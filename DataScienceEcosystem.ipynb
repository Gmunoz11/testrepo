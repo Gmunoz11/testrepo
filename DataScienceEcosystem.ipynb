{
 "cells": [
  {
   "cell_type": "markdown",
   "id": "6f8d99f3-7b87-4c13-955f-240c57645679",
   "metadata": {},
   "source": [
    "## Author\n",
    "Gabriel Muñoz"
   ]
  },
  {
   "cell_type": "markdown",
   "id": "0c43033a-f1d6-46fe-9df3-f3ecceacc984",
   "metadata": {},
   "source": [
    "# Data Science Tools and Ecosystem"
   ]
  },
  {
   "cell_type": "markdown",
   "id": "03dd673b-d0f8-48f8-ab82-9727b2b534b7",
   "metadata": {},
   "source": [
    "***In this notebook, Data Science Tools and Ecosystem are summarized.***"
   ]
  },
  {
   "cell_type": "markdown",
   "id": "dd6f97b0-9b5e-4c2a-93c7-290530ef4140",
   "metadata": {},
   "source": [
    "**Objectives:**\n",
    "* Popular languages for Data Science\n",
    "* Commonly used libraries used by Data Scientists\n",
    "* Arithmetic expressions in Python"
   ]
  },
  {
   "cell_type": "markdown",
   "id": "beccd76c-3941-4cfa-bd1b-74cf3577c99a",
   "metadata": {},
   "source": [
    "Some of the popular languages that Data Scientists use are:\n",
    "1. C++\n",
    "2. JavaScript\n",
    "3. Python\n",
    "4. R"
   ]
  },
  {
   "cell_type": "markdown",
   "id": "012c2334-2e5c-48e0-88b3-11608bb33f8c",
   "metadata": {},
   "source": [
    "_Some of the commonly used libraries used by Data Scientists include:_\n",
    "* Pandas\n",
    "* Keras\n",
    "* TensorFlow"
   ]
  },
  {
   "cell_type": "markdown",
   "id": "26e2e7c1-638c-46ff-8eb2-24a147854aaf",
   "metadata": {},
   "source": [
    "| Data Science Tools |\n",
    "|--------------------|\n",
    "|       VScode       |\n",
    "|       GitLab       |\n",
    "|       Budibase     |"
   ]
  },
  {
   "cell_type": "markdown",
   "id": "d8bab622-7989-4d10-ae11-ac7bcb32898a",
   "metadata": {},
   "source": [
    "### Below are a few examples of evaluating arithmetic expressions in Python"
   ]
  },
  {
   "cell_type": "code",
   "execution_count": 5,
   "id": "ef3e3007-bd85-488f-aef2-3745b053f3f0",
   "metadata": {},
   "outputs": [
    {
     "data": {
      "text/plain": [
       "17"
      ]
     },
     "execution_count": 5,
     "metadata": {},
     "output_type": "execute_result"
    }
   ],
   "source": [
    "'''This a simple arithmetic expression to mutiply then add integers'''\n",
    "(3*4)+5\n"
   ]
  },
  {
   "cell_type": "code",
   "execution_count": 6,
   "id": "54c01301-aa2f-4eb6-85ec-960a73881e37",
   "metadata": {},
   "outputs": [
    {
     "data": {
      "text/plain": [
       "3.3333333333333335"
      ]
     },
     "execution_count": 6,
     "metadata": {},
     "output_type": "execute_result"
    }
   ],
   "source": [
    "'''This will convert 200 minutes to hours by diving by 60'''\n",
    "200/60"
   ]
  }
 ],
 "metadata": {
  "kernelspec": {
   "display_name": "Python 3 (ipykernel)",
   "language": "python",
   "name": "python3"
  },
  "language_info": {
   "codemirror_mode": {
    "name": "ipython",
    "version": 3
   },
   "file_extension": ".py",
   "mimetype": "text/x-python",
   "name": "python",
   "nbconvert_exporter": "python",
   "pygments_lexer": "ipython3",
   "version": "3.12.5"
  }
 },
 "nbformat": 4,
 "nbformat_minor": 5
}
